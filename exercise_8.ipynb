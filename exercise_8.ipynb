{
 "cells": [
  {
   "cell_type": "code",
   "execution_count": 1,
   "metadata": {},
   "outputs": [],
   "source": [
    "import numpy as np\n",
    "import matplotlib.pyplot as plt\n",
    "from scipy.linalg import qr"
   ]
  },
  {
   "cell_type": "markdown",
   "metadata": {},
   "source": [
    "# Задание 8. QR-алгоритм. Решение полной проблемы собственных значений"
   ]
  },
  {
   "cell_type": "code",
   "execution_count": 2,
   "metadata": {},
   "outputs": [],
   "source": [
    "m = 5"
   ]
  },
  {
   "cell_type": "markdown",
   "metadata": {},
   "source": [
    "Симметричная матрица m на m"
   ]
  },
  {
   "cell_type": "code",
   "execution_count": 3,
   "metadata": {},
   "outputs": [],
   "source": [
    "A = np.random.uniform(-100, 100, (m, m))\n",
    "A = A * A.T"
   ]
  },
  {
   "cell_type": "code",
   "execution_count": 4,
   "metadata": {},
   "outputs": [],
   "source": [
    "B = A"
   ]
  },
  {
   "cell_type": "code",
   "execution_count": 5,
   "metadata": {},
   "outputs": [],
   "source": [
    "S = np.eye(m, m)"
   ]
  },
  {
   "cell_type": "markdown",
   "metadata": {},
   "source": [
    "QR-алгоритм"
   ]
  },
  {
   "cell_type": "code",
   "execution_count": 16,
   "metadata": {},
   "outputs": [],
   "source": [
    "for k in range(1000):\n",
    "    Q, R = qr(B)\n",
    "    B = R @ Q\n",
    "    S = S @ Q"
   ]
  },
  {
   "cell_type": "markdown",
   "metadata": {},
   "source": [
    "Собственные числа, найденные QR-алгоритмом"
   ]
  },
  {
   "cell_type": "code",
   "execution_count": 17,
   "metadata": {},
   "outputs": [
    {
     "data": {
      "text/plain": [
       "array([ 18395.2794, -12441.2025,  11555.3942,   1023.9407,   -636.1318])"
      ]
     },
     "execution_count": 17,
     "metadata": {},
     "output_type": "execute_result"
    }
   ],
   "source": [
    "np.round(np.diag(B), 4)"
   ]
  },
  {
   "cell_type": "markdown",
   "metadata": {},
   "source": [
    "Собственные числа, найденные numpy"
   ]
  },
  {
   "cell_type": "code",
   "execution_count": 18,
   "metadata": {},
   "outputs": [
    {
     "data": {
      "text/plain": [
       "array([-12441.2025,  18395.2794,  11555.3942,   -636.1318,   1023.9407])"
      ]
     },
     "execution_count": 18,
     "metadata": {},
     "output_type": "execute_result"
    }
   ],
   "source": [
    "np.round(np.linalg.eigvals(A), 4)"
   ]
  },
  {
   "cell_type": "markdown",
   "metadata": {},
   "source": [
    "Собственные векторы, найденные numpy"
   ]
  },
  {
   "cell_type": "code",
   "execution_count": 24,
   "metadata": {},
   "outputs": [
    {
     "data": {
      "text/plain": [
       "array([[-0.4853, -0.4988, -0.3338, -0.5526, -0.3144],\n",
       "       [-0.4616,  0.3581,  0.3222, -0.4502,  0.5935],\n",
       "       [ 0.2618,  0.6407, -0.0324, -0.4852, -0.5334],\n",
       "       [-0.6048,  0.4529, -0.4299,  0.4697, -0.154 ],\n",
       "       [ 0.3421,  0.0859, -0.7739, -0.1896,  0.4906]])"
      ]
     },
     "execution_count": 24,
     "metadata": {},
     "output_type": "execute_result"
    }
   ],
   "source": [
    "np.round(np.linalg.eig(A)[1], 4)"
   ]
  },
  {
   "cell_type": "markdown",
   "metadata": {},
   "source": [
    "Собственные векторы, найденные QR-алгоритмом"
   ]
  },
  {
   "cell_type": "code",
   "execution_count": 28,
   "metadata": {},
   "outputs": [
    {
     "data": {
      "text/plain": [
       "array([[ 0.4988,  0.4853, -0.3338, -0.3144,  0.5526],\n",
       "       [-0.3581,  0.4616,  0.3222,  0.5935,  0.4502],\n",
       "       [-0.6407, -0.2618, -0.0324, -0.5334,  0.4852],\n",
       "       [-0.4529,  0.6048, -0.4299, -0.154 , -0.4697],\n",
       "       [-0.0859, -0.3421, -0.7739,  0.4906,  0.1896]])"
      ]
     },
     "execution_count": 28,
     "metadata": {},
     "output_type": "execute_result"
    }
   ],
   "source": [
    "np.round(S, 4)"
   ]
  },
  {
   "cell_type": "markdown",
   "metadata": {},
   "source": [
    "Равенство Av = λv выполняется (для собственных векторов, найденные QR-алгоритмом)"
   ]
  },
  {
   "cell_type": "code",
   "execution_count": 29,
   "metadata": {},
   "outputs": [
    {
     "name": "stdout",
     "output_type": "stream",
     "text": [
      "[ 0. -0. -0. -0. -0.]\n",
      "[-0. -0.  0. -0.  0.]\n",
      "[ 0.  0. -0.  0.  0.]\n",
      "[-0.  0.  0.  0.  0.]\n",
      "[ 0. -0. -0.  0. -0.]\n"
     ]
    }
   ],
   "source": [
    "for i in range(m):\n",
    "    print(np.round(A @ S.T[i] - np.diag(B)[i] * S.T[i], 4))"
   ]
  }
 ],
 "metadata": {
  "kernelspec": {
   "display_name": "Python 3",
   "language": "python",
   "name": "python3"
  },
  "language_info": {
   "codemirror_mode": {
    "name": "ipython",
    "version": 3
   },
   "file_extension": ".py",
   "mimetype": "text/x-python",
   "name": "python",
   "nbconvert_exporter": "python",
   "pygments_lexer": "ipython3",
   "version": "3.8.9"
  }
 },
 "nbformat": 4,
 "nbformat_minor": 2
}
