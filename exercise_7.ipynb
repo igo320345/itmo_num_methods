{
 "cells": [
  {
   "cell_type": "code",
   "execution_count": 58,
   "metadata": {},
   "outputs": [],
   "source": [
    "import numpy as np\n",
    "from sympy import *\n",
    "import matplotlib.pyplot as plt"
   ]
  },
  {
   "cell_type": "markdown",
   "metadata": {},
   "source": [
    "# Задание 7. Частичная проблема собственных значений"
   ]
  },
  {
   "cell_type": "code",
   "execution_count": 59,
   "metadata": {},
   "outputs": [],
   "source": [
    "n = 10"
   ]
  },
  {
   "cell_type": "markdown",
   "metadata": {},
   "source": [
    "Произвольная матрица"
   ]
  },
  {
   "cell_type": "code",
   "execution_count": 60,
   "metadata": {},
   "outputs": [
    {
     "data": {
      "text/latex": [
       "$\\displaystyle \\left[\\begin{matrix}80 & 58 & 64 & 42 & -91 & -30 & 78 & -67 & 28 & 72\\\\79 & -74 & -29 & 35 & 90 & 55 & -49 & 12 & -18 & 21\\\\-56 & 72 & 6 & 92 & 65 & -15 & 5 & -42 & 70 & -63\\\\91 & -15 & -41 & 3 & -7 & 95 & -73 & 75 & -79 & -91\\\\83 & 69 & 1 & 27 & -31 & 63 & -86 & -72 & -85 & 18\\\\68 & -95 & -39 & -89 & 62 & -6 & -10 & 99 & -30 & 33\\\\-65 & 35 & 23 & 13 & -15 & -16 & -38 & -81 & -56 & -28\\\\-13 & -70 & 93 & 84 & -13 & 1 & -73 & -3 & 52 & -92\\\\76 & -50 & 84 & 23 & -79 & 43 & 29 & 66 & 77 & -1\\\\-5 & 70 & 26 & 65 & 18 & 74 & 34 & 63 & -84 & -76\\end{matrix}\\right]$"
      ],
      "text/plain": [
       "Matrix([\n",
       "[ 80,  58,  64,  42, -91, -30,  78, -67,  28,  72],\n",
       "[ 79, -74, -29,  35,  90,  55, -49,  12, -18,  21],\n",
       "[-56,  72,   6,  92,  65, -15,   5, -42,  70, -63],\n",
       "[ 91, -15, -41,   3,  -7,  95, -73,  75, -79, -91],\n",
       "[ 83,  69,   1,  27, -31,  63, -86, -72, -85,  18],\n",
       "[ 68, -95, -39, -89,  62,  -6, -10,  99, -30,  33],\n",
       "[-65,  35,  23,  13, -15, -16, -38, -81, -56, -28],\n",
       "[-13, -70,  93,  84, -13,   1, -73,  -3,  52, -92],\n",
       "[ 76, -50,  84,  23, -79,  43,  29,  66,  77,  -1],\n",
       "[ -5,  70,  26,  65,  18,  74,  34,  63, -84, -76]])"
      ]
     },
     "execution_count": 60,
     "metadata": {},
     "output_type": "execute_result"
    }
   ],
   "source": [
    "A = Matrix([[np.random.randint(-100, 100) for _ in range(n)] for _ in range(n)])\n",
    "A"
   ]
  },
  {
   "cell_type": "code",
   "execution_count": 61,
   "metadata": {},
   "outputs": [],
   "source": [
    "x = []\n",
    "x.append(Matrix([1.0 for _ in range(n)]))\n",
    "err = []\n",
    "err.append(np.inf)\n",
    "l = [0]"
   ]
  },
  {
   "cell_type": "markdown",
   "metadata": {},
   "source": [
    "Итерационный процесс"
   ]
  },
  {
   "cell_type": "code",
   "execution_count": 62,
   "metadata": {},
   "outputs": [],
   "source": [
    "k = 1\n",
    "\n",
    "while err[k - 1] > 0.00001:\n",
    "    x.append((A * x[k - 1]) / np.linalg.norm(A * x[k - 1], np.inf))\n",
    "    l.append(((A * x[k]).transpose() * x[k])[0] / (x[k].transpose() * x[k])[0])\n",
    "    err.append(np.linalg.norm(A * x[k] - l[k] * x[k], np.inf))\n",
    "    k += 1"
   ]
  },
  {
   "cell_type": "markdown",
   "metadata": {},
   "source": [
    "Затраченное количество итераций"
   ]
  },
  {
   "cell_type": "code",
   "execution_count": 63,
   "metadata": {},
   "outputs": [
    {
     "data": {
      "text/plain": [
       "651"
      ]
     },
     "execution_count": 63,
     "metadata": {},
     "output_type": "execute_result"
    }
   ],
   "source": [
    "k - 1"
   ]
  },
  {
   "cell_type": "markdown",
   "metadata": {},
   "source": [
    "Максимальное по модулю собственное значение"
   ]
  },
  {
   "cell_type": "code",
   "execution_count": 64,
   "metadata": {},
   "outputs": [
    {
     "data": {
      "text/latex": [
       "$\\displaystyle 179.524163724054$"
      ],
      "text/plain": [
       "179.524163724054"
      ]
     },
     "execution_count": 64,
     "metadata": {},
     "output_type": "execute_result"
    }
   ],
   "source": [
    "l[k - 1]"
   ]
  },
  {
   "cell_type": "markdown",
   "metadata": {},
   "source": [
    "График ошибки"
   ]
  },
  {
   "cell_type": "code",
   "execution_count": 65,
   "metadata": {},
   "outputs": [
    {
     "data": {
      "image/png": "[encoded data removed]",
      "text/plain": [
       "<Figure size 640x480 with 1 Axes>"
      ]
     },
     "metadata": {},
     "output_type": "display_data"
    }
   ],
   "source": [
    "plt.plot(np.arange(k), err)\n",
    "plt.grid(True)"
   ]
  }
 ],
 "metadata": {
  "kernelspec": {
   "display_name": "Python 3",
   "language": "python",
   "name": "python3"
  },
  "language_info": {
   "codemirror_mode": {
    "name": "ipython",
    "version": 3
   },
   "file_extension": ".py",
   "mimetype": "text/x-python",
   "name": "python",
   "nbconvert_exporter": "python",
   "pygments_lexer": "ipython3",
   "version": "3.10.12"
  },
  "orig_nbformat": 4
 },
 "nbformat": 4,
 "nbformat_minor": 2
}
